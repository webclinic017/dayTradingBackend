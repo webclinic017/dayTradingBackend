{
 "cells": [
  {
   "cell_type": "code",
   "execution_count": 3,
   "metadata": {},
   "outputs": [],
   "source": [
    "from credentials import zerodha_api_key,zerodha_secret_key\n",
    "from kiteconnect import KiteConnect\n",
    "# import pickle"
   ]
  },
  {
   "cell_type": "code",
   "execution_count": 4,
   "metadata": {},
   "outputs": [
    {
     "name": "stdout",
     "output_type": "stream",
     "text": [
      "https://kite.trade/connect/login?api_key=qbdvce9x9rppupce&v=3\n"
     ]
    }
   ],
   "source": [
    "kite = KiteConnect(zerodha_api_key)\n",
    "login_url = kite.login_url()\n",
    "print(login_url)"
   ]
  },
  {
   "cell_type": "code",
   "execution_count": 5,
   "metadata": {},
   "outputs": [],
   "source": [
    "request_token = input(\"Enter request token here : \")"
   ]
  },
  {
   "cell_type": "code",
   "execution_count": 6,
   "metadata": {},
   "outputs": [],
   "source": [
    "data = kite.generate_session(request_token=request_token, api_secret=zerodha_secret_key)\n",
    "kite.set_access_token(data[\"access_token\"])"
   ]
  },
  {
   "cell_type": "code",
   "execution_count": 8,
   "metadata": {},
   "outputs": [],
   "source": [
    "instrument_list = kite.instruments()"
   ]
  },
  {
   "cell_type": "code",
   "execution_count": null,
   "metadata": {},
   "outputs": [],
   "source": [
    "instrument_list"
   ]
  },
  {
   "cell_type": "code",
   "execution_count": null,
   "metadata": {},
   "outputs": [],
   "source": [
    "historical_data = kite.historical_data()"
   ]
  }
 ],
 "metadata": {
  "interpreter": {
   "hash": "db8c2568cd32c57429bc2b0988eb3f2f66af66b3145fbe9dc34b31663cf37d3f"
  },
  "kernelspec": {
   "display_name": "Python 3.7.7 64-bit ('daytrade': pyenv)",
   "language": "python",
   "name": "python3"
  },
  "language_info": {
   "codemirror_mode": {
    "name": "ipython",
    "version": 3
   },
   "file_extension": ".py",
   "mimetype": "text/x-python",
   "name": "python",
   "nbconvert_exporter": "python",
   "pygments_lexer": "ipython3",
   "version": "3.7.7"
  },
  "orig_nbformat": 4
 },
 "nbformat": 4,
 "nbformat_minor": 2
}
