{
 "cells": [
  {
   "cell_type": "code",
   "execution_count": 1,
   "metadata": {},
   "outputs": [],
   "source": [
    "from credentials import zerodha_api_key,zerodha_secret_key\n",
    "from kiteconnect import KiteConnect\n",
    "# import pickle"
   ]
  },
  {
   "cell_type": "code",
   "execution_count": 2,
   "metadata": {},
   "outputs": [
    {
     "name": "stdout",
     "output_type": "stream",
     "text": [
      "https://kite.trade/connect/login?api_key=qbdvce9x9rppupce&v=3\n"
     ]
    }
   ],
   "source": [
    "kite = KiteConnect(zerodha_api_key)\n",
    "login_url = kite.login_url()\n",
    "print(login_url)"
   ]
  },
  {
   "cell_type": "code",
   "execution_count": null,
   "metadata": {},
   "outputs": [],
   "source": [
    "request_token = input(\"Enter request token here : \")"
   ]
  },
  {
   "cell_type": "code",
   "execution_count": 3,
   "metadata": {},
   "outputs": [],
   "source": [
    "data = kite.generate_session(request_token=request_token, api_secret=zerodha_secret_key)\n",
    "kite.set_access_token(data[\"access_token\"])"
   ]
  },
  {
   "cell_type": "code",
   "execution_count": null,
   "metadata": {},
   "outputs": [],
   "source": []
  },
  {
   "cell_type": "code",
   "execution_count": 46,
   "metadata": {},
   "outputs": [
    {
     "data": {
      "text/plain": [
       "{'user_type': 'individual',\n",
       " 'email': 'y.shashwat@gmail.com',\n",
       " 'user_name': 'Shashwat Yadav',\n",
       " 'user_shortname': 'Shashwat',\n",
       " 'broker': 'ZERODHA',\n",
       " 'exchanges': [],\n",
       " 'products': ['CNC', 'NRML', 'MIS', 'BO', 'CO'],\n",
       " 'order_types': ['MARKET', 'LIMIT', 'SL', 'SL-M'],\n",
       " 'avatar_url': None,\n",
       " 'user_id': 'AI6169',\n",
       " 'api_key': 'qbdvce9x9rppupce',\n",
       " 'access_token': 'rt26K13OTa7h6UGiWXwwpRafom5QWQs4',\n",
       " 'public_token': 'p0pNbGeZTwsfzLuBcBvK10y81lfJCFtJ',\n",
       " 'enctoken': '1/B71f8lE0kZW8wedGL/XQmyM+9b57xwl+6g4J6ddxrC9EkHBDjXs+fh5sx7UG8pYTFINjo2H50Q7QsUjhYXnmBJ6RuVH6N9mWfx/hnd0OEAONn7iParM7hLpyLB17o=',\n",
       " 'refresh_token': '',\n",
       " 'silo': '',\n",
       " 'login_time': datetime.datetime(2022, 1, 6, 17, 9, 38),\n",
       " 'meta': {'demat_consent': 'consent'}}"
      ]
     },
     "execution_count": 46,
     "metadata": {},
     "output_type": "execute_result"
    }
   ],
   "source": []
  },
  {
   "cell_type": "code",
   "execution_count": null,
   "metadata": {},
   "outputs": [],
   "source": []
  },
  {
   "cell_type": "code",
   "execution_count": null,
   "metadata": {},
   "outputs": [],
   "source": []
  },
  {
   "cell_type": "code",
   "execution_count": 16,
   "metadata": {},
   "outputs": [],
   "source": [
    "instrument_list = kite.instruments()"
   ]
  },
  {
   "cell_type": "code",
   "execution_count": null,
   "metadata": {},
   "outputs": [],
   "source": []
  },
  {
   "cell_type": "code",
   "execution_count": null,
   "metadata": {},
   "outputs": [],
   "source": []
  },
  {
   "cell_type": "code",
   "execution_count": null,
   "metadata": {},
   "outputs": [],
   "source": []
  },
  {
   "cell_type": "code",
   "execution_count": null,
   "metadata": {},
   "outputs": [],
   "source": []
  },
  {
   "cell_type": "code",
   "execution_count": null,
   "metadata": {},
   "outputs": [],
   "source": []
  },
  {
   "cell_type": "code",
   "execution_count": null,
   "metadata": {},
   "outputs": [],
   "source": []
  },
  {
   "cell_type": "code",
   "execution_count": null,
   "metadata": {},
   "outputs": [],
   "source": []
  }
 ],
 "metadata": {
  "interpreter": {
   "hash": "db8c2568cd32c57429bc2b0988eb3f2f66af66b3145fbe9dc34b31663cf37d3f"
  },
  "kernelspec": {
   "display_name": "Python 3.7.7 64-bit ('daytrade': pyenv)",
   "language": "python",
   "name": "python3"
  },
  "language_info": {
   "codemirror_mode": {
    "name": "ipython",
    "version": 3
   },
   "file_extension": ".py",
   "mimetype": "text/x-python",
   "name": "python",
   "nbconvert_exporter": "python",
   "pygments_lexer": "ipython3",
   "version": "3.7.7"
  },
  "orig_nbformat": 4
 },
 "nbformat": 4,
 "nbformat_minor": 2
}
